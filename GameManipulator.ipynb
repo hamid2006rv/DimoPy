{
 "cells": [
  {
   "cell_type": "code",
   "execution_count": 8,
   "metadata": {
    "collapsed": true
   },
   "outputs": [],
   "source": [
    "from autopy import *\n",
    "import scanner"
   ]
  },
  {
   "cell_type": "code",
   "execution_count": 9,
   "metadata": {
    "collapsed": true
   },
   "outputs": [],
   "source": [
    "# Cache screen size\n",
    "screen_width, screen_height= screen.get_size()\n",
    "\n",
    "Scanner = scanner.Scanner();\n",
    "\n",
    "# COLOR DEFINITIONS\n",
    "# This is the Dino's colour, also used by Obstacles.\n",
    "COLOR_DINOSAUR = '535353';"
   ]
  },
  {
   "cell_type": "code",
   "execution_count": 14,
   "metadata": {
    "collapsed": false
   },
   "outputs": [],
   "source": [
    "class GameManipulator:\n",
    "    def __init__(self):\n",
    "        # Stores the game position (Globally)\n",
    "        self.offset= None\n",
    "        self.width= None\n",
    "\n",
    "        # Stores points (jumps)\n",
    "        self.points= 0\n",
    "\n",
    "        # Listners\n",
    "        self.onGameEnd= None\n",
    "        self.onGameStart= None\n",
    "        self.onSensorData= None\n",
    "\n",
    "        # Game State\n",
    "        self.gamestate= 'OVER'\n",
    "\n",
    "        # GameOver Position\n",
    "        self.gameOverOffset= [190, -82]\n",
    "\n",
    "        # Stores an array of \"sensors\" (Ray tracings)\n",
    "        # Positions are always relative to global \"offset\"\n",
    "        self.sensors= [\n",
    "            {\n",
    "              'lastValue': 1,\n",
    "\n",
    "              'value': None,\n",
    "              'offset': [84, -15], # 64,-15\n",
    "              'step': [4, 0],\n",
    "              'length': 0.3,\n",
    "\n",
    "              # Speed\n",
    "              'speed': 0,\n",
    "              'lastComputeSpeed': 0,\n",
    "\n",
    "              # Computes size of the object\n",
    "              'size': 0,\n",
    "              'computeSize': True,\n",
    "            },\n",
    "          ]\n",
    "\n",
    "    # Find out dinosaur (fast)\n",
    "    def findGamePosition(self):\n",
    "       \n",
    "        skipXFast = 15;\n",
    "\n",
    "        for x in range(20, screen_width,skipXFast):\n",
    "            dinoPos = Scanner.scanUntil(\n",
    "                                          # Start position\n",
    "                                          [x, 80],\n",
    "                                          # Skip pixels\n",
    "                                          [0, skipXFast],\n",
    "                                          # Searching Color\n",
    "                                          COLOR_DINOSAUR,\n",
    "                                          # Normal mode (not inverse)\n",
    "                                          False,\n",
    "                                          # Iteration limit\n",
    "                                          500 / skipXFast)\n",
    "\n",
    "            if (dinoPos):break\n",
    "        if (dinoPos==False):return None\n",
    "        \n",
    "        for x in range(dinoPos[0] - 50, dinoPos[0]+1):\n",
    "            pos = Scanner.scanUntil(\n",
    "                                      # Start position\n",
    "                                      [x, dinoPos[1] - 2],\n",
    "                                      # Skip pixels\n",
    "                                      [0, 1],\n",
    "                                      # Searching Color\n",
    "                                      COLOR_DINOSAUR,\n",
    "                                      # Normal mode (not inverse)\n",
    "                                      False,\n",
    "                                      # Iteration limit\n",
    "                                      100)\n",
    "\n",
    "            if (pos): break\n",
    "\n",
    "\n",
    "        # Did actually found? If not, error!\n",
    "        if (pos==False):   return None\n",
    "  \n",
    "\n",
    "        # Find the end of the game\n",
    "        endPos = pos;\n",
    "\n",
    "        while (bitmap.capture_screen().get_color(endPos[0] + 3, endPos[1]) == COLOR_DINOSAUR):\n",
    "            endPos = Scanner.scanUntil(\n",
    "                                        # Start position\n",
    "                                        [endPos[0] + 2, endPos[1]],\n",
    "                                        # Skip pixels\n",
    "                                        [2, 0],\n",
    "                                        # Searching Color\n",
    "                                        COLOR_DINOSAUR,\n",
    "                                        # Invert mode\n",
    "                                        True,\n",
    "                                        # Iteration limit\n",
    "                                        600);\n",
    "        # Did actually found? If not, error!\n",
    "        if (endPos==False): return None\n",
    "  \n",
    "        #Save to allow global access\n",
    "        self.offset = pos;\n",
    "        self.width = 600;#endPos[0] - pos[0];\n",
    "\n",
    "        return pos"
   ]
  },
  {
   "cell_type": "code",
   "execution_count": 15,
   "metadata": {
    "collapsed": false
   },
   "outputs": [
    {
     "ename": "KeyboardInterrupt",
     "evalue": "",
     "output_type": "error",
     "traceback": [
      "\u001b[1;31m---------------------------------------------------------------------------\u001b[0m",
      "\u001b[1;31mKeyboardInterrupt\u001b[0m                         Traceback (most recent call last)",
      "\u001b[1;32m<ipython-input-15-d8c227d83a84>\u001b[0m in \u001b[0;36m<module>\u001b[1;34m()\u001b[0m\n\u001b[0;32m      1\u001b[0m \u001b[0mg\u001b[0m\u001b[1;33m=\u001b[0m\u001b[0mGameManipulator\u001b[0m\u001b[1;33m(\u001b[0m\u001b[1;33m)\u001b[0m\u001b[1;33m\u001b[0m\u001b[0m\n\u001b[1;32m----> 2\u001b[1;33m \u001b[0mg\u001b[0m\u001b[1;33m.\u001b[0m\u001b[0mfindGamePosition\u001b[0m\u001b[1;33m(\u001b[0m\u001b[1;33m)\u001b[0m\u001b[1;33m\u001b[0m\u001b[0m\n\u001b[0m",
      "\u001b[1;32m<ipython-input-14-e7d493b5da7f>\u001b[0m in \u001b[0;36mfindGamePosition\u001b[1;34m(self)\u001b[0m\n\u001b[0;32m     56\u001b[0m                                           \u001b[0mFalse\u001b[0m\u001b[1;33m,\u001b[0m\u001b[1;33m\u001b[0m\u001b[0m\n\u001b[0;32m     57\u001b[0m                                           \u001b[1;31m# Iteration limit\u001b[0m\u001b[1;33m\u001b[0m\u001b[1;33m\u001b[0m\u001b[0m\n\u001b[1;32m---> 58\u001b[1;33m                                           500 / skipXFast)\n\u001b[0m\u001b[0;32m     59\u001b[0m \u001b[1;33m\u001b[0m\u001b[0m\n\u001b[0;32m     60\u001b[0m             \u001b[1;32mif\u001b[0m \u001b[1;33m(\u001b[0m\u001b[0mdinoPos\u001b[0m\u001b[1;33m)\u001b[0m\u001b[1;33m:\u001b[0m\u001b[1;32mbreak\u001b[0m\u001b[1;33m\u001b[0m\u001b[0m\n",
      "\u001b[1;32mC:\\Users\\Hamid\\scanner.pyc\u001b[0m in \u001b[0;36mscanUntil\u001b[1;34m(self, start, delta, matchColor, inverted, iterLimit)\u001b[0m\n\u001b[0;32m     59\u001b[0m             \u001b[1;32mreturn\u001b[0m \u001b[0mNone\u001b[0m\u001b[1;33m\u001b[0m\u001b[0m\n\u001b[0;32m     60\u001b[0m \u001b[1;33m\u001b[0m\u001b[0m\n\u001b[1;32m---> 61\u001b[1;33m         \u001b[1;32mwhile\u001b[0m \u001b[1;33m(\u001b[0m\u001b[0mself\u001b[0m\u001b[1;33m.\u001b[0m\u001b[0misOutOfBound\u001b[0m\u001b[1;33m(\u001b[0m\u001b[0mcurrent\u001b[0m\u001b[1;33m)\u001b[0m\u001b[1;33m==\u001b[0m \u001b[0mFalse\u001b[0m\u001b[1;33m)\u001b[0m\u001b[1;33m:\u001b[0m\u001b[1;33m\u001b[0m\u001b[0m\n\u001b[0m\u001b[0;32m     62\u001b[0m             \u001b[1;31m# Check current pixel\u001b[0m\u001b[1;33m\u001b[0m\u001b[1;33m\u001b[0m\u001b[0m\n\u001b[0;32m     63\u001b[0m             \u001b[0mcolor\u001b[0m \u001b[1;33m=\u001b[0m \u001b[0mbitmap\u001b[0m\u001b[1;33m.\u001b[0m\u001b[0mcapture_screen\u001b[0m\u001b[1;33m(\u001b[0m\u001b[1;33m)\u001b[0m\u001b[1;33m.\u001b[0m\u001b[0mget_color\u001b[0m\u001b[1;33m(\u001b[0m\u001b[0mcurrent\u001b[0m\u001b[1;33m[\u001b[0m\u001b[0mX\u001b[0m\u001b[1;33m]\u001b[0m\u001b[1;33m,\u001b[0m \u001b[0mcurrent\u001b[0m\u001b[1;33m[\u001b[0m\u001b[0mY\u001b[0m\u001b[1;33m]\u001b[0m\u001b[1;33m)\u001b[0m\u001b[1;33m\u001b[0m\u001b[0m\n",
      "\u001b[1;32mC:\\Users\\Hamid\\scanner.pyc\u001b[0m in \u001b[0;36misOutOfBound\u001b[1;34m(self, pos)\u001b[0m\n\u001b[0;32m     22\u001b[0m     \u001b[1;31m# Check if the given position is outside the Screen\u001b[0m\u001b[1;33m\u001b[0m\u001b[1;33m\u001b[0m\u001b[0m\n\u001b[0;32m     23\u001b[0m     \u001b[1;32mdef\u001b[0m \u001b[0misOutOfBound\u001b[0m\u001b[1;33m(\u001b[0m\u001b[0mself\u001b[0m\u001b[1;33m,\u001b[0m \u001b[0mpos\u001b[0m\u001b[1;33m)\u001b[0m \u001b[1;33m:\u001b[0m\u001b[1;33m\u001b[0m\u001b[0m\n\u001b[1;32m---> 24\u001b[1;33m         \u001b[1;32mif\u001b[0m \u001b[1;33m(\u001b[0m \u001b[0mpos\u001b[0m\u001b[1;33m[\u001b[0m\u001b[0mX\u001b[0m\u001b[1;33m]\u001b[0m \u001b[1;33m<\u001b[0m \u001b[1;36m0\u001b[0m \u001b[1;32mor\u001b[0m \u001b[0mpos\u001b[0m\u001b[1;33m[\u001b[0m\u001b[0mY\u001b[0m\u001b[1;33m]\u001b[0m \u001b[1;33m<\u001b[0m \u001b[1;36m0\u001b[0m \u001b[1;32mor\u001b[0m   \u001b[0mpos\u001b[0m\u001b[1;33m[\u001b[0m\u001b[0mX\u001b[0m\u001b[1;33m]\u001b[0m \u001b[1;33m>=\u001b[0m \u001b[0mscreen_width\u001b[0m \u001b[1;32mor\u001b[0m \u001b[0mpos\u001b[0m\u001b[1;33m[\u001b[0m\u001b[0mY\u001b[0m\u001b[1;33m]\u001b[0m \u001b[1;33m>=\u001b[0m \u001b[0mscreen_height\u001b[0m\u001b[1;33m)\u001b[0m\u001b[1;33m:\u001b[0m\u001b[1;33m\u001b[0m\u001b[0m\n\u001b[0m\u001b[0;32m     25\u001b[0m             \u001b[1;32mreturn\u001b[0m \u001b[0mTrue\u001b[0m\u001b[1;33m\u001b[0m\u001b[0m\n\u001b[0;32m     26\u001b[0m         \u001b[1;32mreturn\u001b[0m \u001b[0mFalse\u001b[0m\u001b[1;33m\u001b[0m\u001b[0m\n",
      "\u001b[1;31mKeyboardInterrupt\u001b[0m: "
     ]
    }
   ],
   "source": [
    "g=GameManipulator()\n",
    "g.findGamePosition()"
   ]
  }
 ],
 "metadata": {
  "kernelspec": {
   "display_name": "Python 2",
   "language": "python",
   "name": "python2"
  },
  "language_info": {
   "codemirror_mode": {
    "name": "ipython",
    "version": 2
   },
   "file_extension": ".py",
   "mimetype": "text/x-python",
   "name": "python",
   "nbconvert_exporter": "python",
   "pygments_lexer": "ipython2",
   "version": "2.7.11"
  }
 },
 "nbformat": 4,
 "nbformat_minor": 0
}
