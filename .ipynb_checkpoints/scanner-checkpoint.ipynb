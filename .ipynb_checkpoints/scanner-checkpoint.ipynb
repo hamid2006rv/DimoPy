{
 "cells": [
  {
   "cell_type": "code",
   "execution_count": 37,
   "metadata": {
    "collapsed": false
   },
   "outputs": [],
   "source": [
    "from autopy import *"
   ]
  },
  {
   "cell_type": "code",
   "execution_count": 38,
   "metadata": {
    "collapsed": false
   },
   "outputs": [],
   "source": [
    "# Cache screen size\n",
    "screen_width, screen_height= screen.get_size()\n",
    "\n",
    "\n",
    "# Indexes\n",
    "X = 0;\n",
    "Y = 1;"
   ]
  },
  {
   "cell_type": "code",
   "execution_count": 39,
   "metadata": {
    "collapsed": false
   },
   "outputs": [],
   "source": [
    "# Create the \"class\" wrapper\n",
    "class Scanner:\n",
    "    # Check if the given position is outside the Screen\n",
    "    def isOutOfBound(self, pos) :\n",
    "        if ( pos[X] < 0 or pos[Y] < 0 or   pos[X] >= screen_width or pos[Y] >= screen_height):\n",
    "            return True\n",
    "        return False\n",
    "    # Limits the x/y values of position to fit the screen\n",
    "    def makeInBounds(self, pos):\n",
    "        if (pos[X] < 0):\n",
    "            pos[X] = 0\n",
    "        if (pos[X] >= screen_width):\n",
    "            pos[X] = screen_width - 1\n",
    "        if (pos[Y] < 0):\n",
    "            pos[Y] = 0\n",
    "        if (pos[Y] >= screen_height):\n",
    "            pos[Y] = screen_height - 1\n",
    "        return pos\n",
    "    #  Given start [X, Y], and a DELTA [dX, dY],\n",
    "    #  maps from \"start\", adding \"delta\" to position,\n",
    "    #  until \"matchinColor\" is found OR isOutOfBounds.\n",
    "    #\n",
    "    #  If iterations reach > iterLimit:\n",
    "    #    returns null;\n",
    "    #\n",
    "    #  if isOutOfBounds:\n",
    "    #    returns null\n",
    "    #\n",
    "    #  otherwise:\n",
    "    #    return that point\n",
    "    #\n",
    "    #  Example: (X direction)\n",
    "    #    scanUntil([0,0], [1, 0], \"000000\");\n",
    "    def scanUntil (self,start, delta, matchColor, inverted, iterLimit,bmp):\n",
    "        iterations = 0\n",
    "        # CLONE instead of using the real one\n",
    "        current = self.makeInBounds([start[X], start[Y]])\n",
    "        \n",
    "        \n",
    "        if (delta[X] == 0 and delta[Y] == 0):\n",
    "            return None\n",
    "  \n",
    "        while (self.isOutOfBound(current)== False):\n",
    "            # Check current pixel\n",
    "            color = bmp.get_color(current[X], current[Y])\n",
    "            \n",
    "            if (inverted == False and color == matchColor):\n",
    "                return current\n",
    "\n",
    "            if (inverted and color != matchColor):\n",
    "                return current;\n",
    "            current[X] += delta[X];\n",
    "            current[Y] += delta[Y];\n",
    "            iterations+=1;\n",
    "\n",
    "            if (iterations > iterLimit):\n",
    "                return None\n",
    "    \n",
    "        return None\n",
    "\n"
   ]
  }
 ],
 "metadata": {
  "kernelspec": {
   "display_name": "Python 2",
   "language": "python",
   "name": "python2"
  },
  "language_info": {
   "codemirror_mode": {
    "name": "ipython",
    "version": 2
   },
   "file_extension": ".py",
   "mimetype": "text/x-python",
   "name": "python",
   "nbconvert_exporter": "python",
   "pygments_lexer": "ipython2",
   "version": "2.7.11"
  }
 },
 "nbformat": 4,
 "nbformat_minor": 0
}
